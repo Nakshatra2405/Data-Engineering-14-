{
 "cells": [
  {
   "cell_type": "code",
   "execution_count": 80,
   "id": "76871399-851e-4a46-adf1-9a05468b42cc",
   "metadata": {},
   "outputs": [],
   "source": [
    "#libraries\n",
    "import pandas as pd\n",
    "import numpy as np\n",
    "import re"
   ]
  },
  {
   "cell_type": "code",
   "execution_count": 81,
   "id": "9f4a4506-96b5-4991-8c4e-53c4b2e03936",
   "metadata": {},
   "outputs": [],
   "source": [
    "#read the csv file\n",
    "df = pd.read_csv('employee_data.csv')"
   ]
  },
  {
   "cell_type": "code",
   "execution_count": 82,
   "id": "c83e1379-836e-4028-ae73-8290c6b041f8",
   "metadata": {},
   "outputs": [],
   "source": [
    "# remove duplicates \n",
    "df = df.drop_duplicates()"
   ]
  },
  {
   "cell_type": "code",
   "execution_count": 83,
   "id": "101f78cf-48c7-4aa9-8db2-5e2d98687c08",
   "metadata": {},
   "outputs": [],
   "source": [
    "#check valid email\n",
    "def is_valid_email(email):\n",
    "    if pd.isna(email):\n",
    "        return False\n",
    "    return re.match(r\"[^@]+@[^@]+\\.[^@]\", str(email)) is not None \n",
    "\n",
    "df['email'] = df['email'].apply(lambda x: x if is_valid_email(x) else np.nan)"
   ]
  },
  {
   "cell_type": "code",
   "execution_count": 84,
   "id": "b8e436d4-e652-45e7-a6c4-932a550424bf",
   "metadata": {},
   "outputs": [],
   "source": [
    "#fill missing email values\n",
    "df['email'] = df['email'].fillna('abc@gmail.com')"
   ]
  },
  {
   "cell_type": "code",
   "execution_count": 85,
   "id": "f5c23930-c09c-4857-8a08-77c062a2b3d3",
   "metadata": {},
   "outputs": [],
   "source": [
    "#set invalid salary(<=0 or NaN) to median salary\n",
    "valid_salary = df['salary'].dropna()\n",
    "valid_salary = valid_salary[valid_salary>0]\n",
    "median_salary = valid_salary.median()\n",
    "df['salary'] = df['salary'].apply(lambda x: median_salary if pd.isna(x) or x<=0 else x)"
   ]
  },
  {
   "cell_type": "code",
   "execution_count": 86,
   "id": "4815605d-944b-4002-8dc0-7f58fdb9906f",
   "metadata": {},
   "outputs": [],
   "source": [
    "#clean and standardize department column\n",
    "def clean_depart(dept):\n",
    "    if pd.isna(dept):\n",
    "        return dept\n",
    "    dept = str(dept).strip()\n",
    "    dept_lower = dept.lower()\n",
    "    if dept_lower in ['hr', 'human resources']:\n",
    "        return 'Human Resrouces'\n",
    "    elif dept_lower in ['it','information technology']:\n",
    "        return 'Information Technology'\n",
    "    elif dept_lower == 'finance':\n",
    "        return 'Finance'\n",
    "    else:\n",
    "        return dept.title()"
   ]
  },
  {
   "cell_type": "code",
   "execution_count": 87,
   "id": "6abc36d3-0963-4254-9249-54ade528fbfa",
   "metadata": {},
   "outputs": [],
   "source": [
    "df['department '] = df['department '].apply(clean_depart)"
   ]
  },
  {
   "cell_type": "code",
   "execution_count": 88,
   "id": "b0b4e7fe-2aed-47d2-b879-40c1c827ec6b",
   "metadata": {},
   "outputs": [],
   "source": [
    "#filling unknown values\n",
    "df['name'] = df['name'].fillna('Unknown')\n",
    "df['joining_date'] = df['joining_date'].fillna('Unknown')"
   ]
  },
  {
   "cell_type": "code",
   "execution_count": 89,
   "id": "f42b1af5-aa94-466b-86e4-3947d70aac08",
   "metadata": {},
   "outputs": [],
   "source": [
    "df.to_csv('cleaned_employee.csv', index=False)"
   ]
  },
  {
   "cell_type": "code",
   "execution_count": 90,
   "id": "9d3ebaf3-8777-48d6-b503-b3eba933af3e",
   "metadata": {},
   "outputs": [
    {
     "name": "stdout",
     "output_type": "stream",
     "text": [
      "Data cleaning completed. Cleaned data saved to 'employee_cleaned.csv'.\n"
     ]
    }
   ],
   "source": [
    "print(\"Data cleaning completed. Cleaned data saved to 'employee_cleaned.csv'.\")"
   ]
  },
  {
   "cell_type": "code",
   "execution_count": null,
   "id": "68043a86-0097-450a-b3d0-1299ccaabb07",
   "metadata": {},
   "outputs": [],
   "source": []
  }
 ],
 "metadata": {
  "kernelspec": {
   "display_name": "Python 3 (ipykernel)",
   "language": "python",
   "name": "python3"
  },
  "language_info": {
   "codemirror_mode": {
    "name": "ipython",
    "version": 3
   },
   "file_extension": ".py",
   "mimetype": "text/x-python",
   "name": "python",
   "nbconvert_exporter": "python",
   "pygments_lexer": "ipython3",
   "version": "3.13.5"
  }
 },
 "nbformat": 4,
 "nbformat_minor": 5
}
