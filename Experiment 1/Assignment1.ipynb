{
 "cells": [
  {
   "cell_type": "code",
   "execution_count": 10,
   "id": "511d4c94-64fe-4027-ba9f-e763b0830b75",
   "metadata": {},
   "outputs": [],
   "source": [
    "#libraries\n",
    "import pandas as pd\n",
    "import numpy as np\n",
    "import re"
   ]
  },
  {
   "cell_type": "code",
   "execution_count": 11,
   "id": "43fb335b-0666-473a-98ba-9aef336128a9",
   "metadata": {},
   "outputs": [],
   "source": [
    "#how to read a csv file\n",
    "df = pd.read_csv('customers.csv')"
   ]
  },
  {
   "cell_type": "code",
   "execution_count": 12,
   "id": "b2e9cd5f-a179-4eff-a2d2-03284b6911dc",
   "metadata": {},
   "outputs": [],
   "source": [
    "#remove duplicate rows\n",
    "df = df.drop_duplicates() "
   ]
  },
  {
   "cell_type": "code",
   "execution_count": 13,
   "id": "5064ac8b-6d77-405c-b977-9f131f224ef8",
   "metadata": {},
   "outputs": [],
   "source": [
    "#check for valid email syntax\n",
    "def is_valid_email(email):\n",
    "    if pd.isna(email):\n",
    "        return False\n",
    "    return re.match(r\"[^@]+@[^@]+\\.[^@]\", str(email)) is not None \n",
    "df['email'] = df['email'].apply(lambda x: x if  is_valid_email(x) else np.nan )"
   ]
  },
  {
   "cell_type": "code",
   "execution_count": 14,
   "id": "2bb4d84b-da96-4b84-a44f-c7a216c847b3",
   "metadata": {},
   "outputs": [],
   "source": [
    "#set invalid ages (<= 0 or NaN) to the median age\n",
    "valid_ages = df['age'].dropna()\n",
    "valid_ages = valid_ages[valid_ages>0]\n",
    "median_age = valid_ages.median()\n",
    "df['age'] = df['age'].apply(lambda x: median_age if pd.isna(x) or x<=0 else x)"
   ]
  },
  {
   "cell_type": "code",
   "execution_count": 15,
   "id": "6cba9939-cd9f-4599-945b-a51667b49029",
   "metadata": {},
   "outputs": [],
   "source": [
    "#fill random value of blank name and cities columns\n",
    "df['name'] = df['name'].fillna('Aditya')\n",
    "df['city'] = df['city'].fillna('Pune')"
   ]
  },
  {
   "cell_type": "code",
   "execution_count": 16,
   "id": "858de34f-8092-4e39-ba21-bf4f422318fd",
   "metadata": {},
   "outputs": [],
   "source": [
    "#set a random value for blank email spaces\n",
    "df['email'] = df['email'].fillna('abc@gmail.com')"
   ]
  },
  {
   "cell_type": "code",
   "execution_count": 17,
   "id": "2bc4508f-e53f-4f24-ba1c-1f8eb64d57b2",
   "metadata": {},
   "outputs": [],
   "source": [
    "df.to_csv('customers_cleaned.csv', index=False)"
   ]
  },
  {
   "cell_type": "code",
   "execution_count": 18,
   "id": "02d0715d-7451-494a-807a-ee81463e099b",
   "metadata": {},
   "outputs": [
    {
     "name": "stdout",
     "output_type": "stream",
     "text": [
      "Data cleaning completed. Cleaned data saved to 'customers_cleaned.csv'.\n"
     ]
    }
   ],
   "source": [
    "print(\"Data cleaning completed. Cleaned data saved to 'customers_cleaned.csv'.\")"
   ]
  },
  {
   "cell_type": "code",
   "execution_count": null,
   "id": "035a894f-ada5-4188-a74b-53d552bcb5db",
   "metadata": {},
   "outputs": [],
   "source": []
  }
 ],
 "metadata": {
  "kernelspec": {
   "display_name": "Python 3 (ipykernel)",
   "language": "python",
   "name": "python3"
  },
  "language_info": {
   "codemirror_mode": {
    "name": "ipython",
    "version": 3
   },
   "file_extension": ".py",
   "mimetype": "text/x-python",
   "name": "python",
   "nbconvert_exporter": "python",
   "pygments_lexer": "ipython3",
   "version": "3.13.5"
  }
 },
 "nbformat": 4,
 "nbformat_minor": 5
}
