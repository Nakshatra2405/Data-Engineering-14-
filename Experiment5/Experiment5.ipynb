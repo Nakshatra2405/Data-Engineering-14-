{
 "cells": [
  {
   "cell_type": "code",
   "execution_count": 2,
   "id": "cf5bcd9c-92a5-4c37-bfb5-627165d4dbe9",
   "metadata": {},
   "outputs": [
    {
     "name": "stdout",
     "output_type": "stream",
     "text": [
      "Requirement already satisfied: requests in c:\\users\\naksh\\anaconda3\\lib\\site-packages (2.32.3)\n",
      "Collecting pymongo\n",
      "  Using cached pymongo-4.15.0-cp313-cp313-win_amd64.whl.metadata (22 kB)\n",
      "Requirement already satisfied: pandas in c:\\users\\naksh\\anaconda3\\lib\\site-packages (2.2.3)\n",
      "Requirement already satisfied: charset-normalizer<4,>=2 in c:\\users\\naksh\\anaconda3\\lib\\site-packages (from requests) (3.3.2)\n",
      "Requirement already satisfied: idna<4,>=2.5 in c:\\users\\naksh\\anaconda3\\lib\\site-packages (from requests) (3.7)\n",
      "Requirement already satisfied: urllib3<3,>=1.21.1 in c:\\users\\naksh\\anaconda3\\lib\\site-packages (from requests) (2.3.0)\n",
      "Requirement already satisfied: certifi>=2017.4.17 in c:\\users\\naksh\\anaconda3\\lib\\site-packages (from requests) (2025.4.26)\n",
      "Collecting dnspython<3.0.0,>=1.16.0 (from pymongo)\n",
      "  Using cached dnspython-2.8.0-py3-none-any.whl.metadata (5.7 kB)\n",
      "Requirement already satisfied: numpy>=1.26.0 in c:\\users\\naksh\\anaconda3\\lib\\site-packages (from pandas) (2.1.3)\n",
      "Requirement already satisfied: python-dateutil>=2.8.2 in c:\\users\\naksh\\anaconda3\\lib\\site-packages (from pandas) (2.9.0.post0)\n",
      "Requirement already satisfied: pytz>=2020.1 in c:\\users\\naksh\\anaconda3\\lib\\site-packages (from pandas) (2024.1)\n",
      "Requirement already satisfied: tzdata>=2022.7 in c:\\users\\naksh\\anaconda3\\lib\\site-packages (from pandas) (2025.2)\n",
      "Requirement already satisfied: six>=1.5 in c:\\users\\naksh\\anaconda3\\lib\\site-packages (from python-dateutil>=2.8.2->pandas) (1.17.0)\n",
      "Using cached pymongo-4.15.0-cp313-cp313-win_amd64.whl (961 kB)\n",
      "Using cached dnspython-2.8.0-py3-none-any.whl (331 kB)\n",
      "Installing collected packages: dnspython, pymongo\n",
      "\n",
      "   ---------------------------------------- 0/2 [dnspython]\n",
      "   -------------------- ------------------- 1/2 [pymongo]\n",
      "   -------------------- ------------------- 1/2 [pymongo]\n",
      "   -------------------- ------------------- 1/2 [pymongo]\n",
      "   ---------------------------------------- 2/2 [pymongo]\n",
      "\n",
      "Successfully installed dnspython-2.8.0 pymongo-4.15.0\n",
      "Note: you may need to restart the kernel to use updated packages.\n"
     ]
    }
   ],
   "source": [
    "pip install requests pymongo pandas"
   ]
  },
  {
   "cell_type": "code",
   "execution_count": 3,
   "id": "69573ab3-d2fd-4dec-b708-d18846c10b3e",
   "metadata": {},
   "outputs": [],
   "source": [
    "import os\n",
    "from datetime import datetime, timezone\n",
    "import requests\n",
    "from pymongo import MongoClient, ASCENDING\n",
    "from datetime import datetime, timezone"
   ]
  },
  {
   "cell_type": "code",
   "execution_count": 24,
   "id": "d16de61e-98d7-4c83-8101-ee225ed670af",
   "metadata": {},
   "outputs": [],
   "source": [
    "API_KEY = \"cb3b7ff5870bf1836fcc688dc62dcb4f\"\n",
    "CITY = \"Chengdu\""
   ]
  },
  {
   "cell_type": "code",
   "execution_count": 6,
   "id": "7b4cd09e-41f1-431f-9c6a-eb0ddf3264d6",
   "metadata": {},
   "outputs": [],
   "source": [
    "MONGO_URL = os.getenv(\"MONGO_URL\",\"mongodb://127.0.0.1:27017\")\n",
    "DB_NAME = \"sales_weatherinfo_db\"\n",
    "WEATHER_COL = \"weather\""
   ]
  },
  {
   "cell_type": "code",
   "execution_count": 7,
   "id": "20bf5545-d48c-4f62-bcfe-3e2b4a781e5a",
   "metadata": {},
   "outputs": [],
   "source": [
    "def midnight_utc_naive(dt_utc: datetime) -> datetime:\n",
    "    dt_utc = dt_utc.astimezone(timezone.utc)\n",
    "    return datetime(dt_utc.year,dt_utc.month,dt_utc.day,0,0,0,0)"
   ]
  },
  {
   "cell_type": "code",
   "execution_count": 9,
   "id": "46f9c488-6895-4b83-befa-a0bb81b96eb9",
   "metadata": {},
   "outputs": [],
   "source": [
    "def ensure_indexes(col):\n",
    "    col.create_index([(\"weather_date\",ASCENDING),(\"city\",ASCENDING)], unique=True)\n",
    "    col.create_index([(\"city\",ASCENDING),(\"weather_date\",ASCENDING)])"
   ]
  },
  {
   "cell_type": "code",
   "execution_count": 17,
   "id": "eae930b2-2597-48df-82ea-46456459f4c6",
   "metadata": {},
   "outputs": [],
   "source": [
    "def upsert_weather(doc: dict, col):\n",
    "    col.update_one(\n",
    "        {\"weather_date\": doc[\"weather_date\"], \"city\": doc[\"city\"]},\n",
    "        {\"$set\": doc},\n",
    "        upsert = True\n",
    "    )"
   ]
  },
  {
   "cell_type": "code",
   "execution_count": 18,
   "id": "b9b1d7e8-73a5-4036-8384-80c8487b9d17",
   "metadata": {},
   "outputs": [],
   "source": [
    "def fetch_weather_live(api_key: str, city:str) -> dict:\n",
    "    url = \"https://api.openweathermap.org/data/2.5/weather\"\n",
    "    params = {\"q\":city, \"appid\":api_key.strip(), \"units\":\"metric\"}\n",
    "\n",
    "    try:\n",
    "        r = requests.get(url, params=params, timeout=20)\n",
    "    except requests.RequestException as e:\n",
    "        raise RuntimeError(f\"Network error calling OpenWeather: {e}\")\n",
    "\n",
    "    if not r.ok:\n",
    "        try:\n",
    "            msg = r.json()\n",
    "        except Exception:\n",
    "            msg = r.text\n",
    "        raise RuntimeError(f\"OpenWeather error {r.status_code}: {msg} | url={r.url}\")\n",
    "\n",
    "    data = r.json()\n",
    "    return{\n",
    "        \"weather_date\":datetime.now(timezone.utc).replace(hour=0,minute=0,second=0,microsecond=0),\n",
    "        \"city\": city,\n",
    "        \"temp_c\": float(data[\"main\"][\"temp\"]),\n",
    "        \"humidity\": int(data[\"main\"][\"humidity\"]),\n",
    "        \"description\": str(data[\"weather\"][0][\"description\"]),\n",
    "        \"fetched_at\": datetime.now(timezone.utc),\n",
    "        \"source\": \"openweather\"\n",
    "    }"
   ]
  },
  {
   "cell_type": "code",
   "execution_count": 25,
   "id": "1a500906-af0c-402e-82e6-63fd8e6e22c7",
   "metadata": {},
   "outputs": [],
   "source": [
    "def main():\n",
    "    if not API_KEY or len(API_KEY.strip()) != 32:\n",
    "        raise ValueError(\"OpenWeather API key looks invalid. Except 32 chars.\")\n",
    "\n",
    "    client = MongoClient(MONGO_URL)\n",
    "    col = client[DB_NAME][WEATHER_COL]\n",
    "\n",
    "    ensure_indexes(col)\n",
    "    doc = fetch_weather_live(API_KEY, CITY)\n",
    "    upsert_weather(doc, col)\n",
    "\n",
    "    print(f\"Stored live weather for {doc['city']} on {doc['weather_date'].date()}.\")"
   ]
  },
  {
   "cell_type": "code",
   "execution_count": 26,
   "id": "28ed7e60-a71c-45d7-84b4-e62f3ec3abdb",
   "metadata": {},
   "outputs": [
    {
     "name": "stdout",
     "output_type": "stream",
     "text": [
      "Stored live weather for Chengdu on 2025-09-13.\n"
     ]
    }
   ],
   "source": [
    "if __name__ == \"__main__\":\n",
    "    main()"
   ]
  },
  {
   "cell_type": "code",
   "execution_count": null,
   "id": "07fd2fdb-5172-4a60-89a8-46e929364c8f",
   "metadata": {},
   "outputs": [],
   "source": []
  }
 ],
 "metadata": {
  "kernelspec": {
   "display_name": "Python 3 (ipykernel)",
   "language": "python",
   "name": "python3"
  },
  "language_info": {
   "codemirror_mode": {
    "name": "ipython",
    "version": 3
   },
   "file_extension": ".py",
   "mimetype": "text/x-python",
   "name": "python",
   "nbconvert_exporter": "python",
   "pygments_lexer": "ipython3",
   "version": "3.13.5"
  }
 },
 "nbformat": 4,
 "nbformat_minor": 5
}
