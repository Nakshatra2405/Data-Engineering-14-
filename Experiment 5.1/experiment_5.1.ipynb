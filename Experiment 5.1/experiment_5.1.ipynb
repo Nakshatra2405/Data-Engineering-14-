{
 "cells": [
  {
   "cell_type": "code",
   "execution_count": 12,
   "id": "5aa1f5cf-1189-4565-aa99-fd2b9bce760d",
   "metadata": {},
   "outputs": [],
   "source": [
    "from pymongo import MongoClient"
   ]
  },
  {
   "cell_type": "code",
   "execution_count": 13,
   "id": "bef5348d-7aa7-4191-a4fd-531b78ce15cd",
   "metadata": {},
   "outputs": [],
   "source": [
    "# Connect to local Mongo\n",
    "client = MongoClient(\"mongodb://localhost:27017\")\n",
    "db = client[\"weather\"]\n",
    "obs = db[\"obs\"]"
   ]
  },
  {
   "cell_type": "code",
   "execution_count": 14,
   "id": "fdd29ee8-aae2-492b-9d9a-a156409d5216",
   "metadata": {},
   "outputs": [
    {
     "name": "stdout",
     "output_type": "stream",
     "text": [
      "Connected to DB: weather\n"
     ]
    }
   ],
   "source": [
    "print(\"Connected to DB:\", db.name)"
   ]
  },
  {
   "cell_type": "code",
   "execution_count": 18,
   "id": "bf14060f-578b-44af-8210-4e973660a6c4",
   "metadata": {},
   "outputs": [
    {
     "name": "stdout",
     "output_type": "stream",
     "text": [
      "['admin', 'config', 'local', 'sales_weatherinfo_db', 'weather']\n",
      "['obs']\n"
     ]
    }
   ],
   "source": [
    "print(client.list_database_names())  # should list 'weather' if created\n",
    "print(db.list_collection_names()) "
   ]
  },
  {
   "cell_type": "code",
   "execution_count": 15,
   "id": "8f1e879b-708b-477c-9109-6df1baf5c7f4",
   "metadata": {},
   "outputs": [],
   "source": [
    "import requests\n",
    "from datetime import datetime, timezone"
   ]
  },
  {
   "cell_type": "code",
   "execution_count": 25,
   "id": "36355a9d-c766-4019-b8fe-105568ab4f97",
   "metadata": {},
   "outputs": [],
   "source": [
    "API_KEY = \"cb3b7ff5870bf1836fcc688dc62dcb4f\"\n",
    "BASE_URL = \"https://api.openweathermap.org/data/2.5/weather\""
   ]
  },
  {
   "cell_type": "code",
   "execution_count": 26,
   "id": "6a1dc4bc-0713-4cda-95f0-88f659ec37ff",
   "metadata": {},
   "outputs": [],
   "source": [
    "# Example cities \n",
    "CITIES = [\n",
    "    {\"id\": 1275339, \"name\": \"Mumbai\"},\n",
    "    {\"id\": 1273294, \"name\": \"Delhi\"},\n",
    "    {\"id\": 1275004, \"name\": \"Bengaluru\"}\n",
    "]"
   ]
  },
  {
   "cell_type": "code",
   "execution_count": 27,
   "id": "9f3b235e-43f2-4bf1-859f-cb52939359e6",
   "metadata": {},
   "outputs": [],
   "source": [
    "def celsius_from_kelvin(k):\n",
    "    return round(k - 273.15, 2) if k is not None else None\n",
    "\n",
    "def fetch_city_weather(city):\n",
    "    params = {\"appid\": API_KEY, \"id\": city[\"id\"]}\n",
    "    r = requests.get(BASE_URL, params=params)\n",
    "    data = r.json()\n",
    "    return data"
   ]
  },
  {
   "cell_type": "code",
   "execution_count": 28,
   "id": "05c12e15-d1bb-485b-b7fc-6074562f853e",
   "metadata": {},
   "outputs": [],
   "source": [
    "def transform(raw):\n",
    "    city_info = {\n",
    "        \"id\": raw.get(\"id\"),\n",
    "        \"name\": raw.get(\"name\"),\n",
    "        \"country\": raw.get(\"sys\", {}).get(\"country\"),\n",
    "        \"coord\": raw.get(\"coord\")\n",
    "    }\n",
    "    obs_time = datetime.fromtimestamp(raw[\"dt\"], tz=timezone.utc)\n",
    "    \n",
    "    doc = {\n",
    "        \"city\": city_info,\n",
    "        \"obs_time\": obs_time,\n",
    "        \"main\": {\n",
    "            \"temp_c\": celsius_from_kelvin(raw[\"main\"][\"temp\"]),\n",
    "            \"feels_like_c\": celsius_from_kelvin(raw[\"main\"][\"feels_like\"]),\n",
    "            \"pressure_hpa\": raw[\"main\"][\"pressure\"],\n",
    "            \"humidity_pct\": raw[\"main\"][\"humidity\"],\n",
    "        },\n",
    "        \"wind\": raw.get(\"wind\"),\n",
    "        \"clouds_pct\": raw.get(\"clouds\", {}).get(\"all\"),\n",
    "        \"visibility_m\": raw.get(\"visibility\"),\n",
    "        \"weather\": raw.get(\"weather\"),\n",
    "        \"ingest_time\": datetime.now(timezone.utc)\n",
    "    }\n",
    "    return doc"
   ]
  },
  {
   "cell_type": "code",
   "execution_count": 29,
   "id": "c8a4b99d-5f0c-4cbd-988e-13f766cb556f",
   "metadata": {},
   "outputs": [],
   "source": [
    "from pymongo import errors"
   ]
  },
  {
   "cell_type": "code",
   "execution_count": 30,
   "id": "54b083e4-d88a-4773-a94c-7506f5d73218",
   "metadata": {},
   "outputs": [],
   "source": [
    "# Create unique index if not already\n",
    "obs.create_index([(\"city.id\", 1), (\"obs_time\", 1)], unique=True)\n",
    "\n",
    "def load(doc):\n",
    "    try:\n",
    "        obs.update_one(\n",
    "            {\"city.id\": doc[\"city\"][\"id\"], \"obs_time\": doc[\"obs_time\"]},\n",
    "            {\"$setOnInsert\": doc},\n",
    "            upsert=True\n",
    "        )\n",
    "        print(f\"Inserted {doc['city']['name']} at {doc['obs_time']}\")\n",
    "    except errors.DuplicateKeyError:\n",
    "        print(\"Duplicate skipped.\")"
   ]
  },
  {
   "cell_type": "code",
   "execution_count": 32,
   "id": "646c48a6-f27a-420d-a61c-f254f3017f22",
   "metadata": {},
   "outputs": [
    {
     "name": "stdout",
     "output_type": "stream",
     "text": [
      "Inserted Mumbai at 2025-09-22 16:49:44+00:00\n",
      "Inserted Delhi at 2025-09-22 16:56:56+00:00\n",
      "Inserted Kolkata at 2025-09-22 16:55:10+00:00\n"
     ]
    }
   ],
   "source": [
    "for city in CITIES:\n",
    "    raw = fetch_city_weather(city)\n",
    "    doc = transform(raw)\n",
    "    load(doc)\n"
   ]
  },
  {
   "cell_type": "code",
   "execution_count": 33,
   "id": "148fb448-a1ee-4700-a9f4-bb075abd107f",
   "metadata": {},
   "outputs": [
    {
     "data": {
      "text/plain": [
       "[{'_id': {'city_id': 1273294, 'city_name': 'Delhi', 'day': '2025-09-22'},\n",
       "  'min_temp': 31.05,\n",
       "  'max_temp': 31.05,\n",
       "  'avg_temp': 31.05,\n",
       "  'samples': 1},\n",
       " {'_id': {'city_id': 1275004, 'city_name': 'Kolkata', 'day': '2025-09-22'},\n",
       "  'min_temp': 27.97,\n",
       "  'max_temp': 27.97,\n",
       "  'avg_temp': 27.97,\n",
       "  'samples': 1},\n",
       " {'_id': {'city_id': 1275339, 'city_name': 'Mumbai', 'day': '2025-09-22'},\n",
       "  'min_temp': 27.99,\n",
       "  'max_temp': 27.99,\n",
       "  'avg_temp': 27.99,\n",
       "  'samples': 1}]"
      ]
     },
     "execution_count": 33,
     "metadata": {},
     "output_type": "execute_result"
    }
   ],
   "source": [
    "pipeline = [\n",
    "    {\"$addFields\": {\n",
    "        \"day\": {\"$dateToString\": {\"date\": \"$obs_time\", \"format\": \"%Y-%m-%d\", \"timezone\": \"UTC\"}}\n",
    "    }},\n",
    "    {\"$group\": {\n",
    "        \"_id\": {\"city_id\": \"$city.id\", \"city_name\": \"$city.name\", \"day\": \"$day\"},\n",
    "        \"min_temp\": {\"$min\": \"$main.temp_c\"},\n",
    "        \"max_temp\": {\"$max\": \"$main.temp_c\"},\n",
    "        \"avg_temp\": {\"$avg\": \"$main.temp_c\"},\n",
    "        \"samples\": {\"$sum\": 1}\n",
    "    }},\n",
    "    {\"$sort\": {\"_id.city_id\": 1, \"_id.day\": -1}}\n",
    "]\n",
    "\n",
    "results = list(obs.aggregate(pipeline))\n",
    "results"
   ]
  },
  {
   "cell_type": "code",
   "execution_count": null,
   "id": "9174dcf2-0085-4f2e-a31a-d05eb47a2632",
   "metadata": {},
   "outputs": [
    {
     "name": "stdout",
     "output_type": "stream",
     "text": [
      "Inserted Mumbai at 2025-09-22 16:49:44+00:00\n",
      "Inserted Delhi at 2025-09-22 16:56:56+00:00\n",
      "Inserted Kolkata at 2025-09-22 16:55:10+00:00\n",
      "ETL cycle complete, sleeping 30 min...\n"
     ]
    }
   ],
   "source": [
    "import time\n",
    "\n",
    "while True:\n",
    "    for city in CITIES:\n",
    "        raw = fetch_city_weather(city)\n",
    "        doc = transform(raw)\n",
    "        load(doc)\n",
    "    print(\"ETL cycle complete, sleeping 30 min...\")\n",
    "    time.sleep(1800)  # 30 minutes\n"
   ]
  },
  {
   "cell_type": "code",
   "execution_count": null,
   "id": "6980f75d-0de4-41b1-9aa1-c79e2c7526f4",
   "metadata": {},
   "outputs": [],
   "source": []
  }
 ],
 "metadata": {
  "kernelspec": {
   "display_name": "Python 3 (ipykernel)",
   "language": "python",
   "name": "python3"
  },
  "language_info": {
   "codemirror_mode": {
    "name": "ipython",
    "version": 3
   },
   "file_extension": ".py",
   "mimetype": "text/x-python",
   "name": "python",
   "nbconvert_exporter": "python",
   "pygments_lexer": "ipython3",
   "version": "3.13.5"
  }
 },
 "nbformat": 4,
 "nbformat_minor": 5
}
