{
 "cells": [
  {
   "cell_type": "code",
   "execution_count": 1,
   "id": "907dc8cb-b533-44b7-8596-2ad65fbe417d",
   "metadata": {},
   "outputs": [],
   "source": [
    "import pandas as pd\n",
    "import psycopg2\n",
    "import requests\n",
    "from datetime import datetime"
   ]
  },
  {
   "cell_type": "code",
   "execution_count": 18,
   "id": "7a46b763-ea4e-4e37-8ccb-87c21ddb959f",
   "metadata": {},
   "outputs": [],
   "source": [
    "#settings\n",
    "DB_NAME = \"retaildb\"\n",
    "DB_HOST = \"localhost\"\n",
    "DB_PORT = \"5432\"\n",
    "DB_PASS = \"password123\"\n",
    "DB_USER = \"retailuser\"\n",
    "API_KEY = \"cb3b7ff5870bf1836fcc688dc62dcb4f\"\n",
    "BASE_URL = \"http://api.openweathermap.org/data/2.5/weather\""
   ]
  },
  {
   "cell_type": "code",
   "execution_count": 3,
   "id": "0d66fc8a-1d98-4b27-be8e-6fdadbf45b60",
   "metadata": {},
   "outputs": [],
   "source": [
    "#Location of the stores\n",
    "STORE_LOCATIONS = {\n",
    "    1: \"Mumbai\",\n",
    "    2: \"Delhi\",\n",
    "    3: \"Bangalore\",\n",
    "    4: \"Kolkata\"\n",
    "}"
   ]
  },
  {
   "cell_type": "code",
   "execution_count": 12,
   "id": "726e8157-b962-4714-9482-71fc06abdc2c",
   "metadata": {},
   "outputs": [
    {
     "name": "stdout",
     "output_type": "stream",
     "text": [
      "Sales data loaded and cleaned.\n",
      "Cleaned data saved to 'cleaned_sales.csv'\n"
     ]
    }
   ],
   "source": [
    "#Cleaning the data\n",
    "df = pd.read_csv('sales.csv')\n",
    "df['price'] = df['price'].fillna(df['price'].median())\n",
    "df['quantity'] = df['quantity'].fillna(1)\n",
    "df = df[(df['price'] > 0) & (df['quantity'] > 0)]\n",
    "df = df.drop_duplicates()\n",
    "print(\"Sales data loaded and cleaned.\")\n",
    "df.to_csv('cleaned_sales.csv', index=False)\n",
    "print(\"Cleaned data saved to 'cleaned_sales.csv'\")\n"
   ]
  },
  {
   "cell_type": "code",
   "execution_count": 13,
   "id": "a6f1a461-0866-42f8-a96e-75c364d16d3b",
   "metadata": {},
   "outputs": [],
   "source": [
    "#fetching weather data\n",
    "def fetch_weather(city):\n",
    "    params = {\n",
    "        'q': city,\n",
    "        'appid': API_KEY,\n",
    "        'units': 'metric'\n",
    "    }\n",
    "    response = requests.get(BASE_URL, params=params)\n",
    "    if response.status_code == 200:\n",
    "        data = response.json()\n",
    "        temp = data['main']['temp']\n",
    "        humidity = data['main']['humidity']\n",
    "        return temp, humidity\n",
    "    else:\n",
    "        print(f\"Could not fetch weather for {city}. Status Code: {response.status_code}\")\n",
    "        return None, None"
   ]
  },
  {
   "cell_type": "code",
   "execution_count": 14,
   "id": "fe88efdf-5699-473e-ba8e-08c5410e29c5",
   "metadata": {},
   "outputs": [
    {
     "name": "stdout",
     "output_type": "stream",
     "text": [
      "Weather data added to sales records.\n"
     ]
    }
   ],
   "source": [
    "#add weather data\n",
    "temperatures = []\n",
    "humidities = []\n",
    "\n",
    "for idx, row in df.iterrows():\n",
    "    store_id = row['store_id']\n",
    "    city = STORE_LOCATIONS.get(store_id, \"Mumbai\")\n",
    "    temp, humidity = fetch_weather(city)\n",
    "    temperatures.append(temp)\n",
    "    humidities.append(humidity)\n",
    "\n",
    "df['temperature'] = temperatures\n",
    "df['humidity'] = humidities\n",
    "\n",
    "print(\"Weather data added to sales records.\")"
   ]
  },
  {
   "cell_type": "code",
   "execution_count": 22,
   "id": "85fa4dc4-0054-4a79-976f-78b3cb340a0a",
   "metadata": {},
   "outputs": [
    {
     "name": "stdout",
     "output_type": "stream",
     "text": [
      "Connected to PostgreSQL.\n",
      "Table checked/created.\n",
      "Sales data inserted successfully.\n",
      "Database connection closed.\n"
     ]
    }
   ],
   "source": [
    "import psycopg2\n",
    "from datetime import datetime\n",
    "\n",
    "# PostgreSQL settings\n",
    "DB_NAME = \"retaildb\"\n",
    "DB_USER = \"retailuser\"\n",
    "DB_PASS = \"yourpassword\"\n",
    "DB_HOST = \"localhost\"\n",
    "DB_PORT = \"5432\"\n",
    "\n",
    "# Initialize variables\n",
    "conn = None\n",
    "cursor = None\n",
    "\n",
    "try:\n",
    "    conn = psycopg2.connect(\n",
    "        dbname=DB_NAME,\n",
    "        user=DB_USER,\n",
    "        password=DB_PASS,\n",
    "        host=DB_HOST,\n",
    "        port=DB_PORT\n",
    "    )\n",
    "    cursor = conn.cursor()\n",
    "    print(\"Connected to PostgreSQL.\")\n",
    "\n",
    "    # Create sales table if not exists\n",
    "    cursor.execute('''\n",
    "        CREATE TABLE IF NOT EXISTS sales (\n",
    "            sale_id INT PRIMARY KEY,\n",
    "            customer_id INT,\n",
    "            product_id INT,\n",
    "            store_id INT,\n",
    "            quantity INT,\n",
    "            price FLOAT,\n",
    "            timestamp TIMESTAMP,\n",
    "            temperature FLOAT,\n",
    "            humidity FLOAT\n",
    "        )\n",
    "    ''')\n",
    "    conn.commit()\n",
    "    print(\"Table checked/created.\")\n",
    "\n",
    "    # Insert data from DataFrame 'df'\n",
    "    for idx, row in df.iterrows():\n",
    "        cursor.execute('''\n",
    "            INSERT INTO sales (sale_id, customer_id, product_id, store_id, quantity, price, timestamp, temperature, humidity)\n",
    "            VALUES (%s, %s, %s, %s, %s, %s, %s, %s, %s)\n",
    "            ON CONFLICT (sale_id) DO NOTHING\n",
    "        ''', (\n",
    "            int(row['sale_id']),\n",
    "            int(row['customer_id']),\n",
    "            int(row['product_id']),\n",
    "            int(row['store_id']),\n",
    "            int(row['quantity']),\n",
    "            float(row['price']),\n",
    "            datetime.strptime(row['timestamp'], \"%Y-%m-%d %H:%M:%S\"),\n",
    "            row['temperature'],\n",
    "            row['humidity']\n",
    "        ))\n",
    "    conn.commit()\n",
    "    print(\"Sales data inserted successfully.\")\n",
    "\n",
    "except Exception as e:\n",
    "    print(\"Database error:\", e)\n",
    "\n",
    "finally:\n",
    "    if cursor is not None:\n",
    "        cursor.close()\n",
    "    if conn is not None:\n",
    "        conn.close()\n",
    "    print(\"Database connection closed.\")\n"
   ]
  },
  {
   "cell_type": "code",
   "execution_count": null,
   "id": "396660b3-edcb-4ad8-b029-068256910539",
   "metadata": {},
   "outputs": [],
   "source": []
  }
 ],
 "metadata": {
  "kernelspec": {
   "display_name": "Python 3 (ipykernel)",
   "language": "python",
   "name": "python3"
  },
  "language_info": {
   "codemirror_mode": {
    "name": "ipython",
    "version": 3
   },
   "file_extension": ".py",
   "mimetype": "text/x-python",
   "name": "python",
   "nbconvert_exporter": "python",
   "pygments_lexer": "ipython3",
   "version": "3.13.5"
  }
 },
 "nbformat": 4,
 "nbformat_minor": 5
}
