{
 "cells": [
  {
   "cell_type": "code",
   "execution_count": 1,
   "id": "c6ec5cb4-5344-461c-8086-5695b785ec96",
   "metadata": {},
   "outputs": [
    {
     "name": "stdout",
     "output_type": "stream",
     "text": [
      "Collecting pymysql\n",
      "  Using cached pymysql-1.1.2-py3-none-any.whl.metadata (4.3 kB)\n",
      "Using cached pymysql-1.1.2-py3-none-any.whl (45 kB)\n",
      "Installing collected packages: pymysql\n",
      "Successfully installed pymysql-1.1.2\n"
     ]
    }
   ],
   "source": [
    "!pip install pymysql"
   ]
  },
  {
   "cell_type": "code",
   "execution_count": 1,
   "id": "05690111-b64b-4f98-8db8-66f84b822b35",
   "metadata": {},
   "outputs": [],
   "source": [
    "import os\n",
    "import requests\n",
    "import pandas as pd\n",
    "from sqlalchemy import create_engine, text\n",
    "from urllib.parse import quote_plus\n",
    "from datetime import date"
   ]
  },
  {
   "cell_type": "code",
   "execution_count": 10,
   "id": "086f3ead-23d6-4030-8843-873acb7bf53e",
   "metadata": {},
   "outputs": [],
   "source": [
    "API_KEY = \"cb3b7ff5870bf1836fcc688dc62dcb4f\"\n",
    "CITY = \"Pune\""
   ]
  },
  {
   "cell_type": "code",
   "execution_count": 3,
   "id": "c784b480-a243-4da4-9f8f-a9e29ddcecff",
   "metadata": {},
   "outputs": [],
   "source": [
    "USER = \"root\"\n",
    "PASS = \"Root\"\n",
    "HOST = \"127.0.0.1\"\n",
    "PORT = 3306\n",
    "DB = \"sales_weatherinfo_db\""
   ]
  },
  {
   "cell_type": "code",
   "execution_count": 4,
   "id": "008699f9-e7e8-43a2-b1ba-b96c3952f007",
   "metadata": {},
   "outputs": [],
   "source": [
    "MYSQL_CONN_STRING = f'mysql+pymysql://{USER}:{quote_plus(PASS)}@{HOST}:{PORT}/{DB}'"
   ]
  },
  {
   "cell_type": "code",
   "execution_count": 5,
   "id": "f6bd6e65-c9d2-4b98-a791-a81fdab0da12",
   "metadata": {},
   "outputs": [],
   "source": [
    "def fetch_weather(api_key: str, city: str) -> dict:\n",
    "    url = \"https://api.openweathermap.org/data/2.5/weather\"\n",
    "    params = {\"q\": city, \"appid\": api_key.strip(), \"units\": \"metric\"}\n",
    "\n",
    "    r = requests.get(url, params=params, timeout=20)\n",
    "    if r.status_code != 200:   # ❌ Fixed status code check\n",
    "        try:\n",
    "            print(\"OpenWeather error payload:\", r.json())\n",
    "        except Exception:\n",
    "            print(\"OpenWeather non-JSON response:\", r.text)\n",
    "        r.raise_for_status()\n",
    "\n",
    "    data = r.json()\n",
    "    return {\n",
    "        \"weather_data\": date.today(),  # ✅ Correct key name\n",
    "        \"city\": city,\n",
    "        \"temp_c\": data[\"main\"][\"temp\"],  # ✅ Correct data field for temperature\n",
    "        \"humidity\": data[\"main\"][\"humidity\"],  # ✅ Add humidity if it's in the table\n",
    "        \"description\": data[\"weather\"][0][\"description\"],\n",
    "    }\n"
   ]
  },
  {
   "cell_type": "code",
   "execution_count": 6,
   "id": "687fd972-b874-4bdf-a235-08dac5b65fc4",
   "metadata": {},
   "outputs": [],
   "source": [
    "def ensure_weather_table(engine) -> None:\n",
    "    ddl=\"\"\"\n",
    "    CREATE TABLE IF NOT EXISTS weather(\n",
    "    weather_data DATE NOT NULL,\n",
    "    city VARCHAR(100) NOT NULL,\n",
    "    temp_c DECIMAL(5,2),\n",
    "    humidity INT,\n",
    "    description VARCHAR(255)\n",
    "    )\n",
    "    \"\"\"\n",
    "\n",
    "    with engine.begin() as conn:\n",
    "        conn.execute(text(ddl))"
   ]
  },
  {
   "cell_type": "code",
   "execution_count": 11,
   "id": "71d87c5a-dd51-46bd-b4ec-b291b856c9a2",
   "metadata": {},
   "outputs": [],
   "source": [
    "def store_weather_to_db(weather_data: dict,conn_string:str) -> None:\n",
    "    engine = create_engine(conn_string,pool_pre_ping=True)\n",
    "    ensure_weather_table(engine)\n",
    "    try:\n",
    "        df = pd.DataFrame([weather_data])\n",
    "        df.to_sql(\"weather\",engine,if_exists=\"append\",index=False)\n",
    "        print(f\"Weather data for {weather_data['city']} stored successfully in MySQL.\")\n",
    "    finally:\n",
    "        engine.dispose()"
   ]
  },
  {
   "cell_type": "code",
   "execution_count": 12,
   "id": "7433ca03-86ee-4b4d-b638-6c1142ccb9bc",
   "metadata": {},
   "outputs": [],
   "source": [
    "def main():\n",
    "    weather=fetch_weather(API_KEY,CITY)\n",
    "    store_weather_to_db(weather,MYSQL_CONN_STRING)"
   ]
  },
  {
   "cell_type": "code",
   "execution_count": 13,
   "id": "55813817-0590-48f4-a2ba-ce33145f54cc",
   "metadata": {},
   "outputs": [
    {
     "name": "stdout",
     "output_type": "stream",
     "text": [
      "Weather data for Pune stored successfully in MySQL.\n"
     ]
    }
   ],
   "source": [
    "if __name__==\"__main__\":\n",
    "    main()"
   ]
  },
  {
   "attachments": {
    "c90686b8-65df-49ef-8165-70694dcdbd23.png": {
     "image/png": "[encoded data removed]"
    },
    "e1454e0e-5276-445f-8121-ba3831f4a32a.png": {
     "image/png": "[encoded data removed]"
    }
   },
   "cell_type": "raw",
   "id": "f7155d72-3a5b-44f3-ae61-a0c8e5513879",
   "metadata": {},
   "source": []
  },
  {
   "cell_type": "code",
   "execution_count": null,
   "id": "7916bd6f-797a-496a-8582-efd0fab7fb85",
   "metadata": {},
   "outputs": [],
   "source": []
  }
 ],
 "metadata": {
  "kernelspec": {
   "display_name": "Python 3 (ipykernel)",
   "language": "python",
   "name": "python3"
  },
  "language_info": {
   "codemirror_mode": {
    "name": "ipython",
    "version": 3
   },
   "file_extension": ".py",
   "mimetype": "text/x-python",
   "name": "python",
   "nbconvert_exporter": "python",
   "pygments_lexer": "ipython3",
   "version": "3.13.5"
  }
 },
 "nbformat": 4,
 "nbformat_minor": 5
}
